{
 "cells": [
  {
   "cell_type": "code",
   "execution_count": 1,
   "id": "b6a28b07",
   "metadata": {},
   "outputs": [],
   "source": [
    "import gurobipy as gp\n",
    "from gurobipy import GRB\n",
    "import numpy as np\n",
    "import scipy.sparse as sp"
   ]
  },
  {
   "cell_type": "code",
   "execution_count": 2,
   "id": "4b52b959",
   "metadata": {},
   "outputs": [
    {
     "name": "stdout",
     "output_type": "stream",
     "text": [
      "Restricted license - for non-production use only - expires 2026-11-23\n",
      "Gurobi Optimizer version 12.0.3 build v12.0.3rc0 (mac64[arm] - Darwin 24.0.0 24A348)\n",
      "\n",
      "CPU model: Apple M1\n",
      "Thread count: 8 physical cores, 8 logical processors, using up to 8 threads\n",
      "\n",
      "Optimize a model with 2 rows, 3 columns and 5 nonzeros\n",
      "Model fingerprint: 0x98886187\n",
      "Variable types: 0 continuous, 3 integer (3 binary)\n",
      "Coefficient statistics:\n",
      "  Matrix range     [1e+00, 3e+00]\n",
      "  Objective range  [1e+00, 2e+00]\n",
      "  Bounds range     [1e+00, 1e+00]\n",
      "  RHS range        [1e+00, 4e+00]\n",
      "Found heuristic solution: objective 2.0000000\n",
      "Presolve removed 2 rows and 3 columns\n",
      "Presolve time: 0.00s\n",
      "Presolve: All rows and columns removed\n",
      "\n",
      "Explored 0 nodes (0 simplex iterations) in 0.01 seconds (0.00 work units)\n",
      "Thread count was 1 (of 8 available processors)\n",
      "\n",
      "Solution count 2: 3 2 \n",
      "\n",
      "Optimal solution found (tolerance 1.00e-04)\n",
      "Best objective 3.000000000000e+00, best bound 3.000000000000e+00, gap 0.0000%\n",
      "******* Solution *******\n",
      "x: 1.0\n",
      "y: 0.0\n",
      "z: 1.0\n",
      "************************\n"
     ]
    }
   ],
   "source": [
    "with gp.Env() as env, gp.Model(\"simple-example\", env=env) as model: \n",
    "  x = model.addVar(vtype=GRB.BINARY, name=\"x\") \n",
    "  y = model.addVar(vtype=GRB.BINARY, name=\"y\")\n",
    "  z = model.addVar(vtype=GRB.BINARY, name=\"z\")\n",
    "  model.addConstr(x + 2 * y + 3 * z <= 4, name=\"c0\") \n",
    "  model.addConstr(x + y >= 1, name=\"c1\")\n",
    "  model.setObjective(x + y + 2 * z, sense=GRB.MAXIMIZE) \n",
    "  model.write(\"example.lp\") \n",
    "  model.optimize() \n",
    "  print(\"******* Solution *******\")\n",
    "  for var in model.getVars():\n",
    "    print(f\"{var.VarName}: {var.X}\") \n",
    "  print(\"************************\")"
   ]
  },
  {
   "cell_type": "code",
   "execution_count": 3,
   "id": "16b26c11",
   "metadata": {},
   "outputs": [
    {
     "name": "stdout",
     "output_type": "stream",
     "text": [
      "Restricted license - for non-production use only - expires 2026-11-23\n",
      "Gurobi Optimizer version 12.0.3 build v12.0.3rc0 (mac64[arm] - Darwin 24.0.0 24A348)\n",
      "\n",
      "CPU model: Apple M1\n",
      "Thread count: 8 physical cores, 8 logical processors, using up to 8 threads\n",
      "\n",
      "Optimize a model with 2 rows, 3 columns and 5 nonzeros\n",
      "Model fingerprint: 0x8d4960d3\n",
      "Variable types: 0 continuous, 3 integer (3 binary)\n",
      "Coefficient statistics:\n",
      "  Matrix range     [1e+00, 3e+00]\n",
      "  Objective range  [1e+00, 2e+00]\n",
      "  Bounds range     [1e+00, 1e+00]\n",
      "  RHS range        [1e+00, 4e+00]\n",
      "Found heuristic solution: objective 2.0000000\n",
      "Presolve removed 2 rows and 3 columns\n",
      "Presolve time: 0.00s\n",
      "Presolve: All rows and columns removed\n",
      "\n",
      "Explored 0 nodes (0 simplex iterations) in 0.01 seconds (0.00 work units)\n",
      "Thread count was 1 (of 8 available processors)\n",
      "\n",
      "Solution count 2: 3 2 \n",
      "\n",
      "Optimal solution found (tolerance 1.00e-04)\n",
      "Best objective 3.000000000000e+00, best bound 3.000000000000e+00, gap 0.0000%\n",
      "[1. 0. 1.]\n",
      "Obj: 3\n"
     ]
    }
   ],
   "source": [
    "with gp.Env() as env, gp.Model(\"matrix1\", env=env) as m:\n",
    "  # Create variables\n",
    "  x = m.addMVar(shape=3, vtype=GRB.BINARY, name=\"x\")\n",
    "  # Set objective\n",
    "  obj = np.array([1.0, 1.0, 2.0])\n",
    "  m.setObjective(obj @ x, GRB.MAXIMIZE)\n",
    "  # Build (sparse) constraint matrix\n",
    "  row = np.array([0, 0, 0, 1, 1])\n",
    "  col = np.array([0, 1, 2, 0, 1])\n",
    "  val = np.array([1.0, 2.0, 3.0, -1.0, -1.0])\n",
    "  # A is such that A[row[k], col[k]] = val[k]\n",
    "  A = sp.csr_matrix((val, (row, col)), shape=(2, 3))\n",
    "  # Build rhs vector\n",
    "  rhs = np.array([4.0, -1.0])\n",
    "  # Add constraints\n",
    "  m.addConstr(A @ x <= rhs, name=\"c\")\n",
    "  # Write the model\n",
    "  m.write(\"matrix1.lp\")\n",
    "  # Optimize model\n",
    "  m.optimize()\n",
    "  print(x.X)\n",
    "  print(f\"Obj: {m.ObjVal:g}\")"
   ]
  },
  {
   "cell_type": "code",
   "execution_count": 4,
   "id": "e791c712",
   "metadata": {},
   "outputs": [
    {
     "name": "stdout",
     "output_type": "stream",
     "text": [
      "Restricted license - for non-production use only - expires 2026-11-23\n"
     ]
    },
    {
     "ename": "GurobiError",
     "evalue": "Variable not in model",
     "output_type": "error",
     "traceback": [
      "\u001b[31m---------------------------------------------------------------------------\u001b[39m",
      "\u001b[31mGurobiError\u001b[39m                               Traceback (most recent call last)",
      "\u001b[36mCell\u001b[39m\u001b[36m \u001b[39m\u001b[32mIn[4]\u001b[39m\u001b[32m, line 5\u001b[39m\n\u001b[32m      3\u001b[39m y = model.addVar(vtype=GRB.BINARY, name=\u001b[33m\"\u001b[39m\u001b[33my\u001b[39m\u001b[33m\"\u001b[39m)\n\u001b[32m      4\u001b[39m c1 = model.addConstr(x + y >= \u001b[32m1\u001b[39m, name=\u001b[33m\"\u001b[39m\u001b[33mc1\u001b[39m\u001b[33m\"\u001b[39m)\n\u001b[32m----> \u001b[39m\u001b[32m5\u001b[39m \u001b[43mmodel\u001b[49m\u001b[43m.\u001b[49m\u001b[43msetObjective\u001b[49m\u001b[43m(\u001b[49m\u001b[43mx\u001b[49m\u001b[43m \u001b[49m\u001b[43m+\u001b[49m\u001b[43m \u001b[49m\u001b[43my\u001b[49m\u001b[43m \u001b[49m\u001b[43m+\u001b[49m\u001b[43m \u001b[49m\u001b[32;43m2\u001b[39;49m\u001b[43m \u001b[49m\u001b[43m*\u001b[49m\u001b[43m \u001b[49m\u001b[43mz\u001b[49m\u001b[43m,\u001b[49m\u001b[43m \u001b[49m\u001b[43msense\u001b[49m\u001b[43m=\u001b[49m\u001b[43mGRB\u001b[49m\u001b[43m.\u001b[49m\u001b[43mMAXIMIZE\u001b[49m\u001b[43m)\u001b[49m\n\u001b[32m      6\u001b[39m model.params.MipFocus=\u001b[32m1\u001b[39m \n\u001b[32m      7\u001b[39m model.params.TimeLimit = \u001b[32m3600\u001b[39m \n",
      "\u001b[36mFile \u001b[39m\u001b[32msrc/gurobipy/_model.pyx:1722\u001b[39m, in \u001b[36mgurobipy._model.Model.setObjective\u001b[39m\u001b[34m()\u001b[39m\n",
      "\u001b[31mGurobiError\u001b[39m: Variable not in model"
     ]
    }
   ],
   "source": [
    "with gp.Env() as env, gp.Model(\"simple-example\", env=env) as model:\n",
    "  x = model.addVar(vtype=GRB.BINARY, name=\"x\")\n",
    "  y = model.addVar(vtype=GRB.BINARY, name=\"y\")\n",
    "  c1 = model.addConstr(x + y >= 1, name=\"c1\")\n",
    "  model.setObjective(x + y + 2 * z, sense=GRB.MAXIMIZE)\n",
    "  model.params.MipFocus=1 \n",
    "  model.params.TimeLimit = 3600 \n",
    "  model.optimize()"
   ]
  }
 ],
 "metadata": {
  "kernelspec": {
   "display_name": "Python 3",
   "language": "python",
   "name": "python3"
  },
  "language_info": {
   "codemirror_mode": {
    "name": "ipython",
    "version": 3
   },
   "file_extension": ".py",
   "mimetype": "text/x-python",
   "name": "python",
   "nbconvert_exporter": "python",
   "pygments_lexer": "ipython3",
   "version": "3.12.10"
  }
 },
 "nbformat": 4,
 "nbformat_minor": 5
}
